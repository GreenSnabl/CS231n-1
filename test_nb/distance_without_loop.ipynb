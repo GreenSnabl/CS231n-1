{
 "cells": [
  {
   "cell_type": "code",
   "execution_count": 1,
   "metadata": {},
   "outputs": [],
   "source": [
    "import numpy as np"
   ]
  },
  {
   "cell_type": "markdown",
   "metadata": {},
   "source": [
    "$$\n",
    "\\begin{eqnarray}\n",
    "\\text{dist(x, y)} = \n",
    "\\begin{bmatrix}\n",
    "\\sqrt{(x_{1} - y_{1})^2} & \\dots & \\sqrt{(x_{1} - y_{m})^2}  \\\\\n",
    "\\vdots & \\ddots & \\vdots \\\\\n",
    "\\sqrt{(x_{n} - y_{1})^2}& \\dots & \\sqrt{(x_{n} - y_{m})^2}\n",
    "\\end{bmatrix}\n",
    "\\end{eqnarray}\n",
    "= \\sqrt{\\left(\n",
    "x^2 - 2xy + y^2\n",
    "\\right)_{ij}}\n",
    "$$\n",
    "\n",
    "Thus with broadcasting we can use the train data $x \\in \\mathbb{R}^{n \\times 1}$ and test data $y \\in \\mathbb{R}^{1 \\times m}$ and calculate the distance matrix $D \\in \\mathbb{R}^{n \\times m}$ by\n",
    "\n",
    "$$\n",
    "D = x^2 - 2xy + y^2\n",
    "$$"
   ]
  },
  {
   "cell_type": "code",
   "execution_count": 49,
   "metadata": {},
   "outputs": [
    {
     "data": {
      "text/plain": [
       "array([[1, 2, 3],\n",
       "       [1, 2, 3],\n",
       "       [2, 3, 4],\n",
       "       [5, 6, 7]])"
      ]
     },
     "execution_count": 49,
     "metadata": {},
     "output_type": "execute_result"
    }
   ],
   "source": [
    "x = np.array([[1,2,3],[1,2,3],[2,3,4], [5,6,7]])\n",
    "x"
   ]
  },
  {
   "cell_type": "code",
   "execution_count": 50,
   "metadata": {},
   "outputs": [
    {
     "data": {
      "text/plain": [
       "array([[5, 3, 5],\n",
       "       [6, 3, 2]])"
      ]
     },
     "execution_count": 50,
     "metadata": {},
     "output_type": "execute_result"
    }
   ],
   "source": [
    "y = np.array([[5,3,5],[6,3,2]])\n",
    "y"
   ]
  },
  {
   "cell_type": "code",
   "execution_count": 55,
   "metadata": {},
   "outputs": [
    {
     "data": {
      "text/plain": [
       "array([[ 14],\n",
       "       [ 14],\n",
       "       [ 29],\n",
       "       [110]])"
      ]
     },
     "execution_count": 55,
     "metadata": {},
     "output_type": "execute_result"
    }
   ],
   "source": [
    "x2 = np.square(x).sum(1).reshape(-1, 1)\n",
    "x2"
   ]
  },
  {
   "cell_type": "code",
   "execution_count": 52,
   "metadata": {},
   "outputs": [
    {
     "data": {
      "text/plain": [
       "array([59, 49])"
      ]
     },
     "execution_count": 52,
     "metadata": {},
     "output_type": "execute_result"
    }
   ],
   "source": [
    "y2 = np.square(y).sum(1)\n",
    "y2"
   ]
  },
  {
   "cell_type": "code",
   "execution_count": 53,
   "metadata": {},
   "outputs": [
    {
     "data": {
      "text/plain": [
       "array([[26, 18],\n",
       "       [26, 18],\n",
       "       [39, 29],\n",
       "       [78, 62]])"
      ]
     },
     "execution_count": 53,
     "metadata": {},
     "output_type": "execute_result"
    }
   ],
   "source": [
    "xy = x @ y.T\n",
    "xy"
   ]
  },
  {
   "cell_type": "code",
   "execution_count": 64,
   "metadata": {},
   "outputs": [
    {
     "data": {
      "text/plain": [
       "array([[21, 27],\n",
       "       [21, 27],\n",
       "       [10, 20],\n",
       "       [13, 35]])"
      ]
     },
     "execution_count": 64,
     "metadata": {},
     "output_type": "execute_result"
    }
   ],
   "source": [
    "dists_squared = x2 - 2 * (x @ y.T) + y2\n",
    "dists_squared"
   ]
  },
  {
   "cell_type": "code",
   "execution_count": 63,
   "metadata": {},
   "outputs": [
    {
     "data": {
      "text/plain": [
       "array([[4.58257569, 5.19615242],\n",
       "       [4.58257569, 5.19615242],\n",
       "       [3.16227766, 4.47213595],\n",
       "       [3.60555128, 5.91607978]])"
      ]
     },
     "execution_count": 63,
     "metadata": {},
     "output_type": "execute_result"
    }
   ],
   "source": [
    "dists = np.sqrt(dists_squared)\n",
    "dists"
   ]
  },
  {
   "cell_type": "code",
   "execution_count": null,
   "metadata": {},
   "outputs": [],
   "source": []
  }
 ],
 "metadata": {
  "kernelspec": {
   "display_name": "Python 3",
   "language": "python",
   "name": "python3"
  },
  "language_info": {
   "codemirror_mode": {
    "name": "ipython",
    "version": 3
   },
   "file_extension": ".py",
   "mimetype": "text/x-python",
   "name": "python",
   "nbconvert_exporter": "python",
   "pygments_lexer": "ipython3",
   "version": "3.7.0"
  }
 },
 "nbformat": 4,
 "nbformat_minor": 4
}
