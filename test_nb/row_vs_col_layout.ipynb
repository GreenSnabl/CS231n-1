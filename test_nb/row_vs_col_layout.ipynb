{
 "cells": [
  {
   "cell_type": "code",
   "execution_count": 53,
   "metadata": {},
   "outputs": [],
   "source": [
    "import numpy as np\n",
    "import time\n",
    "import functools"
   ]
  },
  {
   "cell_type": "code",
   "execution_count": 31,
   "metadata": {},
   "outputs": [],
   "source": [
    "mat = np.ones((10000, 10000))"
   ]
  },
  {
   "cell_type": "code",
   "execution_count": 59,
   "metadata": {},
   "outputs": [],
   "source": [
    "def timeit(_func=None, *, num=5):\n",
    "    \"\"\"Sleep given amount of seconds before calling the function\"\"\"\n",
    "    def decorator_timeit(func):\n",
    "        @functools.wraps(func)\n",
    "        def wrapper_timeit(*args, **kwargs):\n",
    "            times = np.zeros(num)\n",
    "            for i in range(num):\n",
    "                then = time.time()\n",
    "                func()\n",
    "                now = time.time()\n",
    "                times[i] = now - then\n",
    "            print(f\"Avg. time = {times.mean()}\")\n",
    "            print(f\"Std. dev = {times.std()}\")        \n",
    "        return wrapper_timeit\n",
    "\n",
    "    if _func is None:\n",
    "        return decorator_timeit\n",
    "    else:\n",
    "        return decorator_timeit(_func)"
   ]
  },
  {
   "cell_type": "code",
   "execution_count": 63,
   "metadata": {},
   "outputs": [],
   "source": [
    "@timeit(num=10)\n",
    "def f1():\n",
    "    m = mat.copy()\n",
    "    for i in range(m.shape[0]):\n",
    "        m[i,:] = m[i,:] * i\n",
    "\n",
    "@timeit(num=10)\n",
    "def f2():\n",
    "    m = mat.copy()\n",
    "    for i in range(m.shape[1]):\n",
    "        m[:,i] = m[:,i] * i"
   ]
  },
  {
   "cell_type": "code",
   "execution_count": 66,
   "metadata": {},
   "outputs": [
    {
     "name": "stdout",
     "output_type": "stream",
     "text": [
      "Avg. time = 0.3778665065765381\n",
      "Std. dev = 0.010308984844008787\n"
     ]
    }
   ],
   "source": [
    "f1()"
   ]
  },
  {
   "cell_type": "code",
   "execution_count": 67,
   "metadata": {},
   "outputs": [
    {
     "name": "stdout",
     "output_type": "stream",
     "text": [
      "Avg. time = 0.9492080211639404\n",
      "Std. dev = 0.021411181608862375\n"
     ]
    }
   ],
   "source": [
    "f2()"
   ]
  }
 ],
 "metadata": {
  "kernelspec": {
   "display_name": "Python 3",
   "language": "python",
   "name": "python3"
  },
  "language_info": {
   "codemirror_mode": {
    "name": "ipython",
    "version": 3
   },
   "file_extension": ".py",
   "mimetype": "text/x-python",
   "name": "python",
   "nbconvert_exporter": "python",
   "pygments_lexer": "ipython3",
   "version": "3.7.0"
  }
 },
 "nbformat": 4,
 "nbformat_minor": 4
}
